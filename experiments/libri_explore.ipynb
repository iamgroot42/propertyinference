{
 "cells": [
  {
   "cell_type": "code",
   "execution_count": 1,
   "id": "639a278f",
   "metadata": {},
   "outputs": [],
   "source": [
    "%load_ext autoreload\n",
    "%autoreload 2"
   ]
  },
  {
   "cell_type": "code",
   "execution_count": 2,
   "id": "99d559bf",
   "metadata": {},
   "outputs": [
    {
     "name": "stderr",
     "output_type": "stream",
     "text": [
      "2023-06-16 10:30:40.739608: I tensorflow/core/util/port.cc:110] oneDNN custom operations are on. You may see slightly different numerical results due to floating-point round-off errors from different computation orders. To turn them off, set the environment variable `TF_ENABLE_ONEDNN_OPTS=0`.\n",
      "2023-06-16 10:30:40.789286: I tensorflow/core/platform/cpu_feature_guard.cc:182] This TensorFlow binary is optimized to use available CPU instructions in performance-critical operations.\n",
      "To enable the following instructions: AVX2 AVX512F AVX512_VNNI FMA, in other operations, rebuild TensorFlow with the appropriate compiler flags.\n",
      "2023-06-16 10:30:43.188312: W tensorflow/compiler/tf2tensorrt/utils/py_utils.cc:38] TF-TRT Warning: Could not find TensorRT\n"
     ]
    }
   ],
   "source": [
    "import os\n",
    "from datasets import load_from_disk\n",
    "import distribution_inference.models.asr as models_asr\n",
    "import evaluate\n",
    "from distribution_inference.training.utils import load_model\n",
    "import numpy as np\n",
    "import torch as ch\n",
    "from tqdm import tqdm\n",
    "\n",
    "from dataclasses import dataclass\n",
    "from typing import Any, List, Dict, Union\n",
    "\n",
    "from transformers import WhisperFeatureExtractor\n",
    "from transformers import WhisperTokenizerFast\n",
    "from transformers import WhisperProcessor\n",
    "from transformers import WhisperForConditionalGeneration\n",
    "\n",
    "from audiomentations import Compose, AddGaussianNoise, PitchShift, AirAbsorption, TanhDistortion\n",
    "import IPython.display as ipd\n",
    "\n",
    "import evaluate\n",
    "\n",
    "import matplotlib.pyplot as plt\n",
    "import matplotlib as mpl\n",
    "mpl.rcParams['figure.dpi'] = 150"
   ]
  },
  {
   "cell_type": "code",
   "execution_count": 3,
   "id": "75442c27",
   "metadata": {},
   "outputs": [],
   "source": [
    "base_data_dir = \"/p/adversarialml/as9rw/datasets/librispeech/\"\n",
    "small_data_sample = load_from_disk(os.path.join(base_data_dir, \"processed\", \"adv\", \"audit_subjects\"))"
   ]
  },
  {
   "cell_type": "code",
   "execution_count": 169,
   "id": "add96648",
   "metadata": {},
   "outputs": [],
   "source": [
    "tokenizer = WhisperTokenizerFast.from_pretrained(\"openai/whisper-tiny.en\")\n",
    "fe = WhisperFeatureExtractor.from_pretrained(\"openai/whisper-tiny.en\")\n",
    "loss_fn = ch.nn.CrossEntropyLoss()\n",
    "metric = evaluate.load(\"wer\")"
   ]
  },
  {
   "cell_type": "code",
   "execution_count": 136,
   "id": "91560c2a",
   "metadata": {},
   "outputs": [],
   "source": [
    "@dataclass\n",
    "class DataCollatorSpeechSeq2SeqWithPadding:\n",
    "    processor: Any\n",
    "\n",
    "    def __call__(self, features: List[Dict[str, Union[List[int], ch.Tensor]]]) -> Dict[str, ch.Tensor]:\n",
    "        # split inputs and labels since they have to be of different lengths and need different padding methods\n",
    "        # first treat the audio inputs by simply returning torch tensors\n",
    "        input_features = [{\"input_features\": x} for x in features[\"input_features\"]]\n",
    "        batch = self.processor.feature_extractor.pad(\n",
    "            input_features, return_tensors=\"pt\")\n",
    "\n",
    "        # get the tokenized label sequences\n",
    "        label_features = [{\"input_ids\": x} for x in features[\"labels\"]]\n",
    "        # pad the labels to max length\n",
    "        labels_batch = self.processor.tokenizer.pad(\n",
    "            label_features, return_tensors=\"pt\")\n",
    "\n",
    "        # replace padding with -100 to ignore loss correctly\n",
    "        labels = labels_batch[\"input_ids\"].masked_fill(\n",
    "            labels_batch.attention_mask.ne(1), -100)\n",
    "\n",
    "        # if bos token is appended in previous tokenization step,\n",
    "        # cut bos token here as it's append later anyways\n",
    "        if (labels[:, 0] == self.processor.tokenizer.bos_token_id).all().cpu().item():\n",
    "            labels = labels[:, 1:]\n",
    "\n",
    "        batch[\"labels\"] = labels\n",
    "\n",
    "        return batch"
   ]
  },
  {
   "cell_type": "code",
   "execution_count": 137,
   "id": "cbbd4622",
   "metadata": {},
   "outputs": [],
   "source": [
    "collator = DataCollatorSpeechSeq2SeqWithPadding(processor=WhisperProcessor.from_pretrained(\"openai/whisper-tiny.en\"))"
   ]
  },
  {
   "cell_type": "code",
   "execution_count": 249,
   "id": "9b84a513",
   "metadata": {},
   "outputs": [],
   "source": [
    "def metric_changes_under_augs(data, m, tokenizer, batch_size: int, sample_rate: int = 16000):\n",
    "    transforms = [\n",
    "        AddGaussianNoise(\n",
    "            min_amplitude=0.01,\n",
    "            max_amplitude=0.015,\n",
    "            p=1.0),\n",
    "        PitchShift(\n",
    "            min_semitones=-4.0,\n",
    "            max_semitones=4.0,\n",
    "            p=1.0),\n",
    "        AirAbsorption(\n",
    "            min_distance=100,\n",
    "            max_distance=500,\n",
    "            p=1.0),\n",
    "        TanhDistortion(\n",
    "            min_distortion=0.1,\n",
    "            max_distortion=0.7,\n",
    "            p=1.0)\n",
    "    ]\n",
    "    aug_data_flat = []\n",
    "    for x in tqdm(data['audio'], \"Generating augmented data\"):\n",
    "        aug_data_flat.extend([transform(x['array'].astype(np.float32), sample_rate) for transform in transforms])\n",
    "    # Get encodings for text in data\n",
    "    all_text = data['text']\n",
    "    encodings = tokenizer([x.lower() for x in data['text']]).input_ids\n",
    "    # Get model outputs for augmented data\n",
    "    losses, wers = [], []\n",
    "    for i in tqdm(range(0, len(aug_data_flat), batch_size), desc=\"Collecting statistics\"):\n",
    "        batch = aug_data_flat[i:i+batch_size]\n",
    "        batch_data = fe(batch, sampling_rate=16_000).input_features\n",
    "        # Could make more efficient by only making forward call and using that to infer\n",
    "        # Generated sequence, but following is more fool-proof\n",
    "        \n",
    "        # Get loss values\n",
    "        labels = []\n",
    "        for j in range(batch_size):\n",
    "            if i + j >= len(aug_data_flat):\n",
    "                break\n",
    "            labels.append(encodings[(i + j) // len(transforms)])\n",
    "        collated_batch = collator({\n",
    "            \"input_features\": batch_data,\n",
    "            \"labels\": labels\n",
    "        })\n",
    "        logits = m(**collated_batch).logits.detach()\n",
    "        loss = [loss_fn(l, b).item() for l, b in zip(logits, collated_batch['labels'])]\n",
    "        losses.extend(loss)\n",
    "        \n",
    "        # Get outputs (for WER computation)\n",
    "        output = m.model.generate(input_features=collated_batch['input_features'])\n",
    "        pred_str = tokenizer.batch_decode(output, skip_special_tokens=True, normalize=True)\n",
    "        for j, pred in enumerate(pred_str):\n",
    "            if i + j >= len(aug_data_flat):\n",
    "                break\n",
    "            wers.append(metric.compute(predictions=[pred], references=[all_text[(i + j) // len(transforms)].lower()]))\n",
    "\n",
    "    losses = np.array(losses)\n",
    "    wers = np.array(wers)\n",
    "    losses = np.reshape(losses, (-1, len(transforms)))\n",
    "    wers = np.reshape(wers, (-1, len(transforms)))\n",
    "    \n",
    "    return losses, wers"
   ]
  },
  {
   "cell_type": "code",
   "execution_count": 229,
   "id": "c523b9c9",
   "metadata": {},
   "outputs": [],
   "source": [
    "model_path = \"/p/adversarialml/as9rw/models_librispeech/whisper-tiny/adv/0/0.0/2_5.6370\""
   ]
  },
  {
   "cell_type": "code",
   "execution_count": 230,
   "id": "6f643608",
   "metadata": {},
   "outputs": [
    {
     "name": "stdout",
     "output_type": "stream",
     "text": [
      "Loaded model!\n"
     ]
    }
   ],
   "source": [
    "# Load model\n",
    "model = models_asr.WhisperTiny()\n",
    "model, (train_ids, _) = load_model(model, model_path, on_cpu=False)\n",
    "model.eval()\n",
    "print(\"Loaded model!\")"
   ]
  },
  {
   "cell_type": "code",
   "execution_count": 233,
   "id": "0829b92e",
   "metadata": {},
   "outputs": [],
   "source": [
    "adv_data = load_from_disk(os.path.join(base_data_dir, \"processed\", \"adv\", \"holdout_subjects\"))\n",
    "all_speaker_ids = adv_data[\"speaker_id\"]\n",
    "unique_speaker_ids = np.unique(adv_data[\"speaker_id\"])"
   ]
  },
  {
   "cell_type": "code",
   "execution_count": 244,
   "id": "d943fef1",
   "metadata": {},
   "outputs": [],
   "source": [
    "num_pick = 5\n",
    "\n",
    "pick_in_speakers  = np.random.choice(train_ids, num_pick, replace=False)\n",
    "pick_out_speakers = np.random.choice(list(set(unique_speaker_ids) - set(train_ids)), num_pick, replace=False)"
   ]
  },
  {
   "cell_type": "code",
   "execution_count": 245,
   "id": "4332c172",
   "metadata": {},
   "outputs": [],
   "source": [
    "in_data_mask  = np.where(np.isin(all_speaker_ids, pick_in_speakers))[0]\n",
    "out_data_mask = np.where(np.isin(all_speaker_ids, pick_out_speakers))[0]"
   ]
  },
  {
   "cell_type": "code",
   "execution_count": 246,
   "id": "a978cda8",
   "metadata": {},
   "outputs": [],
   "source": [
    "in_data  = adv_data.select(in_data_mask)\n",
    "out_data = adv_data.select(out_data_mask)"
   ]
  },
  {
   "cell_type": "code",
   "execution_count": 250,
   "id": "b7df89ff",
   "metadata": {},
   "outputs": [
    {
     "name": "stderr",
     "output_type": "stream",
     "text": [
      "Generating augmented data: 100%|████████████████████████████████████████████████████████████████████████████████████████████████████████████████████████████████████████████| 50/50 [00:14<00:00,  3.42it/s]\n",
      "Collecting statistics: 100%|████████████████████████████████████████████████████████████████████████████████████████████████████████████████████████████████████████████████| 25/25 [01:22<00:00,  3.31s/it]\n"
     ]
    }
   ],
   "source": [
    "losses_in, wers_in = metric_changes_under_augs(\n",
    "    in_data,\n",
    "    model,\n",
    "    tokenizer,\n",
    "    batch_size = 8\n",
    ")"
   ]
  },
  {
   "cell_type": "code",
   "execution_count": 251,
   "id": "c8eec7ac",
   "metadata": {},
   "outputs": [
    {
     "name": "stderr",
     "output_type": "stream",
     "text": [
      "Generating augmented data: 100%|████████████████████████████████████████████████████████████████████████████████████████████████████████████████████████████████████████████| 50/50 [00:15<00:00,  3.33it/s]\n",
      "Collecting statistics: 100%|████████████████████████████████████████████████████████████████████████████████████████████████████████████████████████████████████████████████| 25/25 [01:19<00:00,  3.20s/it]\n"
     ]
    }
   ],
   "source": [
    "losses_out, wers_out = metric_changes_under_augs(\n",
    "    out_data,\n",
    "    model,\n",
    "    tokenizer,\n",
    "    batch_size = 8\n",
    ")"
   ]
  },
  {
   "cell_type": "code",
   "execution_count": 285,
   "id": "5cf1d856",
   "metadata": {},
   "outputs": [
    {
     "name": "stdout",
     "output_type": "stream",
     "text": [
      "\n"
     ]
    },
    {
     "data": {
      "image/png": "[encoded data removed]",
      "text/plain": [
       "<Figure size 960x720 with 1 Axes>"
      ]
     },
     "metadata": {},
     "output_type": "display_data"
    }
   ],
   "source": [
    "tfp = 3\n",
    "\n",
    "plt.hist(losses_in[:, tfp], bins=7, label=\"Members\", alpha=0.5, density=True)\n",
    "plt.hist(losses_out[:, tfp], bins=7, label=\"Non-members\", alpha=0.5, density=True)\n",
    "plt.legend()\n",
    "print()"
   ]
  },
  {
   "cell_type": "code",
   "execution_count": 302,
   "id": "037a62fa",
   "metadata": {},
   "outputs": [
    {
     "name": "stdout",
     "output_type": "stream",
     "text": [
      "Train: 0.95 | Test: 0.5\n"
     ]
    }
   ],
   "source": [
    "from sklearn.tree import DecisionTreeClassifier\n",
    "\n",
    "# Try training a meta-classifier on top of these metrics\n",
    "num_test = 10\n",
    "num_train = len(losses_in) - num_test\n",
    "\n",
    "X_train = np.concatenate((losses_in[num_test:], losses_out[num_test:]), 0)\n",
    "Y_train = np.array([1] * num_train + [0] * num_train)\n",
    "\n",
    "X_test = np.concatenate((losses_in[:num_test], losses_out[:num_test]), 0)\n",
    "Y_test = np.array([1] * num_test + [0] * num_test)\n",
    "\n",
    "clf = DecisionTreeClassifier(max_depth=10)\n",
    "clf.fit(X_train, Y_train)\n",
    "print(\"Train:\", clf.score(X_train, Y_train), \"| Test:\", clf.score(X_test, Y_test))"
   ]
  },
  {
   "cell_type": "code",
   "execution_count": null,
   "id": "5ed27956",
   "metadata": {},
   "outputs": [],
   "source": [
    "def recursive_to_device(data, device):\n",
    "    return {key: value.to(device) for key, value in data.items()}"
   ]
  },
  {
   "cell_type": "code",
   "execution_count": null,
   "id": "4f33a675",
   "metadata": {},
   "outputs": [],
   "source": [
    "model.to(\"cuda:0\")"
   ]
  },
  {
   "cell_type": "code",
   "execution_count": null,
   "id": "91e43921",
   "metadata": {},
   "outputs": [],
   "source": [
    "def get_batch_metrics(m, features):\n",
    "    wer_metric = evaluate.load(\"wer\")\n",
    "\n",
    "    input_features = [{\"input_features\": x} for x in features[\"input_features\"]]\n",
    "    batch = m.processor.feature_extractor.pad(input_features, return_tensors=\"pt\")\n",
    "\n",
    "    # get the tokenized label sequences\n",
    "    label_features = [{\"input_ids\": x} for x in features[\"labels\"]]\n",
    "    # pad the labels to max length\n",
    "    labels_batch = m.processor.tokenizer.pad(label_features, return_tensors=\"pt\")\n",
    "\n",
    "    # replace padding with -100 to ignore loss correctly\n",
    "    labels = labels_batch[\"input_ids\"].masked_fill(\n",
    "    labels_batch.attention_mask.ne(1), -100)\n",
    "\n",
    "    # if bos token is appended in previous tokenization step,\n",
    "    # cut bos token here as it's append later anyways\n",
    "    if (labels[:, 0] == m.processor.tokenizer.bos_token_id).all().cpu().item():\n",
    "        labels = labels[:, 1:]\n",
    "\n",
    "    batch[\"labels\"] = labels\n",
    "    \n",
    "    # Get model output\n",
    "    with ch.no_grad():\n",
    "        batch_cuda = recursive_to_device(batch, \"cuda:0\")\n",
    "        logits = m.model(**batch_cuda).logits.cpu()\n",
    "        pred_ids = m.model.generate(**batch_cuda, max_length=225).cpu()\n",
    "        label_ids = batch[\"labels\"]\n",
    "\n",
    "    # replace -100 with the pad_token_id\n",
    "    label_ids[label_ids == -100] = model.tokenizer.pad_token_id\n",
    "\n",
    "    # we do not want to group tokens when computing the metrics\n",
    "    pred_str = model.tokenizer.batch_decode(pred_ids, skip_special_tokens=True)\n",
    "    pred_str = [x.lstrip().strip() for x in pred_str]\n",
    "    label_str = model.tokenizer.batch_decode(label_ids, skip_special_tokens=True)\n",
    "    \n",
    "    wer = [wer_metric.compute(predictions=[x], references=[y]) for (x, y) in zip(pred_str, label_str)]\n",
    "    for x, y in zip(pred_str, label_str):\n",
    "        print(x)\n",
    "        print(y)\n",
    "        print()\n",
    "\n",
    "    # Compute loss\n",
    "    loss_function = ch.nn.CrossEntropyLoss()\n",
    "    losses = [loss_function(x.view(-1, x.shape[-1]), y.view(-1)).item() for (x, y) in zip(logits, label_ids)]\n",
    "\n",
    "    return wer, losses"
   ]
  },
  {
   "cell_type": "code",
   "execution_count": null,
   "id": "ae088906",
   "metadata": {},
   "outputs": [],
   "source": [
    "def get_metrics(m, data, batch_size: int = 8):\n",
    "    all_metrics = []\n",
    "    for i in tqdm(range(0, len(data), batch_size)):\n",
    "        all_metrics.append(get_batch_metrics(m, data[i:i+batch_size]))\n",
    "        break\n",
    "    all_metrics = np.concatenate(all_metrics, 0).T\n",
    "    return all_metrics"
   ]
  },
  {
   "cell_type": "code",
   "execution_count": null,
   "id": "9c950efc",
   "metadata": {},
   "outputs": [],
   "source": [
    "# losses_members = get_metrics(model, subset_members)\n",
    "losses_nonmembers = get_metrics(model, subset_nonmembers)"
   ]
  },
  {
   "cell_type": "code",
   "execution_count": null,
   "id": "4ec2374b",
   "metadata": {},
   "outputs": [],
   "source": [
    "losses_nonmembers[:, 0]"
   ]
  },
  {
   "cell_type": "code",
   "execution_count": null,
   "id": "c0d6583f",
   "metadata": {},
   "outputs": [],
   "source": [
    "# Plot loss values, WER, and CER for both scenarios\n",
    "plt.hist(losses_members, 21, alpha=0.5, label=\"members\")\n",
    "plt.hist(losses_nonmembers, 21, alpha=0.5, label=\"non-members\")\n",
    "plt.legend()"
   ]
  },
  {
   "cell_type": "code",
   "execution_count": null,
   "id": "97122997",
   "metadata": {},
   "outputs": [],
   "source": [
    "# Later: Consider adding noise/augmentations to input and measure robustness in model behavior"
   ]
  }
 ],
 "metadata": {
  "kernelspec": {
   "display_name": "phd9",
   "language": "python",
   "name": "phd9"
  },
  "language_info": {
   "codemirror_mode": {
    "name": "ipython",
    "version": 3
   },
   "file_extension": ".py",
   "mimetype": "text/x-python",
   "name": "python",
   "nbconvert_exporter": "python",
   "pygments_lexer": "ipython3",
   "version": "3.9.7"
  }
 },
 "nbformat": 4,
 "nbformat_minor": 5
}
