{
 "cells": [
  {
   "cell_type": "code",
   "execution_count": 5,
   "metadata": {},
   "outputs": [
    {
     "name": "stderr",
     "output_type": "stream",
     "text": [
      "WARNING:root:The OGB package is out of date. Your version is 1.3.4, while the latest version is 1.3.6.\n"
     ]
    }
   ],
   "source": [
    "\"\"\"\n",
    "    Notebook to explore embedding space for members and non-members for few-shot learning to see if any useful trends exist that can be utilized\n",
    "    by adversary.\n",
    "\"\"\"\n",
    "import torch as ch\n",
    "import numpy as np\n",
    "from sklearn.manifold import TSNE\n",
    "import matplotlib.pyplot as plt\n",
    "\n",
    "from distribution_inference.datasets.utils import get_dataset_wrapper\n",
    "from distribution_inference.config.core import DatasetConfig, RelationConfig\n",
    "from dataclasses import replace\n",
    "\n",
    "from distribution_inference.training.utils import load_model\n",
    "import distribution_inference.models.contrastive as models_contrastive\n",
    "from distribution_inference.attacks.blackbox.utils import get_relation_preds\n",
    "from tqdm import tqdm\n",
    "\n",
    "# Set DPI to 300 for better quality\n",
    "plt.rcParams['figure.dpi'] = 300\n"
   ]
  },
  {
   "cell_type": "code",
   "execution_count": 6,
   "metadata": {},
   "outputs": [],
   "source": [
    "@ch.no_grad()\n",
    "def collect_embeddings(model, loader):\n",
    "    \"\"\"\n",
    "        Collect embeddings for a given model and loader\n",
    "    \"\"\"\n",
    "    embeddings, labels = [], []\n",
    "    for batch in tqdm(loader, desc=\"Collecting embeddings\"):\n",
    "        embed = model(batch[0].cuda(), embedding_mode=True).detach().cpu().numpy()\n",
    "        embeddings.append(embed)\n",
    "        labels.append(batch[1].numpy())\n",
    "    embeddings = np.concatenate(embeddings, axis=0)\n",
    "    # Flatten out embeddings:\n",
    "    embeddings = embeddings.reshape(embeddings.shape[0], -1)\n",
    "    labels = np.concatenate(labels, axis=0)\n",
    "    return embeddings, labels"
   ]
  },
  {
   "cell_type": "code",
   "execution_count": 16,
   "metadata": {},
   "outputs": [],
   "source": [
    "def look_at_metrics(embeds):\n",
    "    centroid = np.mean(embeds, axis=0)\n",
    "    # Distances from all points to centroid\n",
    "    dists = np.linalg.norm(embeds - centroid, axis=1).mean()\n",
    "    # Distances from all points to each other\n",
    "    dists2 = np.linalg.norm(embeds[:, None] - embeds[None, :], axis=2).mean()\n",
    "    return dists, dists2"
   ]
  },
  {
   "cell_type": "code",
   "execution_count": 41,
   "metadata": {},
   "outputs": [],
   "source": [
    "def experiment(ds_adv, ds_victim,\n",
    "               victim_model_path: str,\n",
    "               batch_size: int = 128,\n",
    "               n_people: int = 5,\n",
    "               skip_plot: bool = False):\n",
    "    # Load victim model\n",
    "    victim_model = models_contrastive.SCNNFaceAudit(n_people=10)\n",
    "    victim_model, (train_people, _) = load_model(victim_model, path=victim_model_path, on_cpu=True)\n",
    "    victim_model.cuda()\n",
    "    victim_model.eval()\n",
    "\n",
    "    # Sample from train_people to pick random people\n",
    "    train_people = np.random.choice(train_people, size=n_people, replace=False)\n",
    "\n",
    "    # Get loader for victim that contains train people\n",
    "    loader_members = ds_victim.get_specified_loader(train_people, shuffle=True, batch_size=batch_size)\n",
    "    # Get loader for adversary (use test people for now)\n",
    "    _, loader_nonmembers = ds_adv.get_loaders(shuffle=True, batch_size=batch_size, primed_for_training=False)\n",
    "\n",
    "    # Collect embeddings\n",
    "    member_embeds, member_labels = collect_embeddings(victim_model, loader_members)\n",
    "    nonmember_embeds, nonmember_labels = collect_embeddings(victim_model, loader_nonmembers)\n",
    "\n",
    "    # Pick n_people random people from nonmember_labels\n",
    "    random_nonmembers = np.random.choice(np.unique(nonmember_labels), size=n_people, replace=False)\n",
    "    # Keep only embeddings for these people\n",
    "    nonmember_embeds = nonmember_embeds[np.isin(nonmember_labels, random_nonmembers)]\n",
    "    nonmember_labels = nonmember_labels[np.isin(nonmember_labels, random_nonmembers)]\n",
    "\n",
    "    # Gather some metrics\n",
    "    member_metrics = np.array([look_at_metrics(member_embeds[member_labels == i]) for i in np.unique(member_labels)])\n",
    "    nonmember_metrics = np.array([look_at_metrics(nonmember_embeds[nonmember_labels == i]) for i in np.unique(nonmember_labels)])\n",
    "\n",
    "    if skip_plot:\n",
    "        return member_metrics, nonmember_metrics\n",
    "\n",
    "    # Create colors array such that each person has a unique color\n",
    "    unique_colors = np.unique(np.concatenate([member_labels, nonmember_labels]))\n",
    "    num_colors = len(unique_colors)\n",
    "    # Create colormap\n",
    "    cmap = plt.cm.get_cmap('tab10', num_colors)\n",
    "    # Create color array\n",
    "    member_labels = [cmap(np.where(unique_colors == i)[0][0]) for i in member_labels]\n",
    "    nonmember_labels = [cmap(np.where(unique_colors == i)[0][0]) for i in nonmember_labels]\n",
    "\n",
    "    # Combine embeddings\n",
    "    embeds = np.concatenate([member_embeds, nonmember_embeds], axis=0)\n",
    "\n",
    "    # Get t-SNE embeddings\n",
    "    tsne = TSNE(n_components=2, random_state=2023)\n",
    "    tsne_embeds = tsne.fit_transform(embeds)\n",
    "\n",
    "    # Plot member-corresponding data with marker as 'x'\n",
    "    plt.scatter(tsne_embeds[:len(member_labels), 0], tsne_embeds[:len(member_labels), 1], c=member_labels, marker='x', cmap='tab10')\n",
    "    # Plot nonmember-corresponding data with marker as 'o'\n",
    "    plt.scatter(tsne_embeds[len(member_labels):, 0], tsne_embeds[len(member_labels):, 1], c=nonmember_labels, marker='o', cmap='tab10')\n",
    "\n",
    "    plt.show()\n",
    "\n",
    "    return member_metrics, nonmember_metrics"
   ]
  },
  {
   "cell_type": "code",
   "execution_count": 46,
   "metadata": {},
   "outputs": [
    {
     "ename": "SyntaxError",
     "evalue": "invalid syntax (170751618.py, line 77)",
     "output_type": "error",
     "traceback": [
      "\u001b[0;36m  Cell \u001b[0;32mIn[46], line 77\u001b[0;36m\u001b[0m\n\u001b[0;31m    get_relation_preds(support_images, query_images, models: List[nn.Module], verbose: bool=True)\u001b[0m\n\u001b[0m                                                           ^\u001b[0m\n\u001b[0;31mSyntaxError\u001b[0m\u001b[0;31m:\u001b[0m invalid syntax\n"
     ]
    }
   ],
   "source": [
    "def relational_experiment(ds_adv, ds_victim,\n",
    "                          victim_model_path: str,\n",
    "                          batch_size: int = 128,\n",
    "                          n_people: int = 5,\n",
    "                          skip_plot: bool = False):\n",
    "    # Load victim model\n",
    "    victim_model = models_contrastive.SCNNFaceAudit(n_people=10)\n",
    "    victim_model, (train_people, _) = load_model(\n",
    "        victim_model, path=victim_model_path, on_cpu=True)\n",
    "    victim_model.cuda()\n",
    "    victim_model.eval()\n",
    "\n",
    "    # Sample from train_people to pick random people\n",
    "    train_people = np.random.choice(train_people, size=n_people, replace=False)\n",
    "\n",
    "    # Get loader for victim that contains train people\n",
    "    loader_members = ds_victim.get_specified_loader(\n",
    "        train_people, shuffle=True, batch_size=batch_size)\n",
    "    # Get loader for adversary (use test people for now)\n",
    "    _, loader_nonmembers = ds_adv.get_loaders(\n",
    "        shuffle=True, batch_size=batch_size, primed_for_training=False)\n",
    "    \n",
    "    def _collect_matching(loader, id):\n",
    "        mapping = {}\n",
    "        for batch in loader:\n",
    "            img = batch[0]\n",
    "            lbl = batch[1]\n",
    "            for i, l in enumerate(lbl):\n",
    "                if l not in mapping:\n",
    "                    mapping[l] = []\n",
    "                mapping[l].append(img[i])\n",
    "        return mapping\n",
    "\n",
    "    member_map = _collect_matching(loader_members, 0)\n",
    "    support_map = _collect_matching(loader_members, 1)\n",
    "    # Flatten support_map into nested list from dict of lists\n",
    "    support_images = [ch.cat(support_map[k], 0).cuda() for k in support_map]\n",
    "\n",
    "    # Handle query set for each member person one by one\n",
    "    train_people_labels = np.unique(train_people)\n",
    "    all_rvals = []\n",
    "    for q in train_people_labels:\n",
    "        query_images = ch.cat(member_map[q], 0).cuda()\n",
    "        relation_values = get_relation_preds(support_images, query_images, [victim_model], verbose=True)\n",
    "        all_rvals.append(relation_values)\n",
    "    return all_rvals\n"
   ]
  },
  {
   "cell_type": "code",
   "execution_count": 23,
   "metadata": {},
   "outputs": [],
   "source": [
    "model_paths = [\n",
    "    \"/p/adversarialml/as9rw/models_celeba_person/80_20_split/scnn_relation/victim/1/0.0/1_0.90.ch\",\n",
    "    \"/p/adversarialml/as9rw/models_celeba_person/80_20_split/scnn_relation/victim/1/0.0/2_0.90.ch\"\n",
    "]\n",
    "\n",
    "rel_config = RelationConfig(n_way=5, k_shot=5, num_query_train=5, num_query_test=5, test_num_task=80)\n",
    "base_config = DatasetConfig(name=\"celeba_person\", prop=1, classify=None,\n",
    "                            split=\"victim\", value=False, augment=False, relation_config=rel_config)\n",
    "adv_config = replace(base_config, split=\"adv\")\n",
    "\n",
    "# Get dataset wrapper\n",
    "ds_wrapper_class = get_dataset_wrapper(\"celeba_person\")\n",
    "\n",
    "\n",
    "# Create DS objects\n",
    "ds_vic = ds_wrapper_class(base_config)\n",
    "ds_adv = ds_wrapper_class(adv_config)"
   ]
  },
  {
   "cell_type": "code",
   "execution_count": 42,
   "metadata": {},
   "outputs": [
    {
     "name": "stderr",
     "output_type": "stream",
     "text": [
      "Collecting embeddings: 100%|██████████| 10/10 [00:03<00:00,  2.68it/s]\n",
      "Collecting embeddings: 100%|██████████| 11/11 [00:02<00:00,  3.69it/s]\n"
     ]
    }
   ],
   "source": [
    "index = 1\n",
    "mem, nonmem = experiment(ds_adv, ds_vic, model_paths[index], n_people=50, skip_plot=True)"
   ]
  },
  {
   "cell_type": "code",
   "execution_count": 43,
   "metadata": {},
   "outputs": [
    {
     "data": {
      "text/plain": [
       "array([[52.9194  , 73.429054],\n",
       "       [48.003635, 66.63356 ],\n",
       "       [49.24732 , 68.3181  ],\n",
       "       [49.99779 , 69.63192 ],\n",
       "       [52.223198, 72.56806 ],\n",
       "       [52.885254, 73.00207 ],\n",
       "       [51.403805, 71.161674],\n",
       "       [49.675907, 68.81416 ],\n",
       "       [50.788036, 70.4178  ],\n",
       "       [49.400497, 68.738365],\n",
       "       [50.325035, 69.92495 ],\n",
       "       [53.987602, 74.486885],\n",
       "       [51.738514, 71.967155],\n",
       "       [53.017647, 73.127556],\n",
       "       [52.86187 , 73.604034],\n",
       "       [46.216328, 64.368286],\n",
       "       [53.09844 , 73.86315 ],\n",
       "       [49.04713 , 67.79342 ],\n",
       "       [50.134148, 68.94645 ],\n",
       "       [52.028996, 72.44901 ],\n",
       "       [50.86101 , 70.232666],\n",
       "       [53.3249  , 74.20371 ],\n",
       "       [50.217396, 69.45193 ],\n",
       "       [52.15159 , 72.399925],\n",
       "       [51.29672 , 70.88846 ],\n",
       "       [55.12678 , 76.665215],\n",
       "       [51.76286 , 71.71141 ],\n",
       "       [50.7896  , 70.65966 ],\n",
       "       [53.79762 , 74.76754 ],\n",
       "       [51.951435, 71.76145 ],\n",
       "       [50.34871 , 69.96307 ],\n",
       "       [52.355152, 72.47464 ],\n",
       "       [50.732555, 70.53132 ],\n",
       "       [48.91873 , 67.58232 ],\n",
       "       [53.729618, 74.622025],\n",
       "       [53.725563, 74.02667 ],\n",
       "       [52.16168 , 72.15888 ],\n",
       "       [52.585205, 72.658844],\n",
       "       [57.96063 , 80.512856],\n",
       "       [56.665047, 78.008415],\n",
       "       [50.74493 , 70.06811 ],\n",
       "       [51.406433, 70.872284],\n",
       "       [52.801712, 73.40221 ],\n",
       "       [52.92126 , 73.30295 ],\n",
       "       [49.62103 , 68.92359 ],\n",
       "       [52.608856, 72.50665 ],\n",
       "       [55.30499 , 76.42341 ],\n",
       "       [49.325478, 68.0449  ],\n",
       "       [53.2921  , 73.77719 ],\n",
       "       [53.57262 , 74.50998 ]], dtype=float32)"
      ]
     },
     "execution_count": 43,
     "metadata": {},
     "output_type": "execute_result"
    }
   ],
   "source": [
    "mem"
   ]
  },
  {
   "cell_type": "code",
   "execution_count": 44,
   "metadata": {},
   "outputs": [
    {
     "data": {
      "text/plain": [
       "array([[53.350304, 74.051636],\n",
       "       [54.732616, 76.10981 ],\n",
       "       [52.65871 , 73.23374 ],\n",
       "       [51.415714, 71.43139 ],\n",
       "       [54.366547, 75.306274],\n",
       "       [53.52079 , 74.45516 ],\n",
       "       [53.612556, 74.00986 ],\n",
       "       [50.4199  , 69.37543 ],\n",
       "       [51.614155, 71.65016 ],\n",
       "       [55.111057, 76.573524],\n",
       "       [54.77948 , 76.09276 ],\n",
       "       [49.942   , 69.14336 ],\n",
       "       [51.78936 , 72.04028 ],\n",
       "       [51.818413, 72.169586],\n",
       "       [52.811924, 72.90627 ],\n",
       "       [50.28319 , 69.44859 ],\n",
       "       [47.99787 , 66.71631 ],\n",
       "       [53.60613 , 74.55159 ],\n",
       "       [53.33048 , 74.13255 ],\n",
       "       [51.47933 , 71.70819 ],\n",
       "       [53.439087, 74.2416  ],\n",
       "       [55.1475  , 76.72871 ],\n",
       "       [48.671177, 67.068375],\n",
       "       [53.730633, 74.235275],\n",
       "       [50.361374, 69.615425],\n",
       "       [51.50388 , 71.65975 ],\n",
       "       [54.80468 , 76.12955 ],\n",
       "       [50.89718 , 70.76041 ],\n",
       "       [51.614136, 71.55613 ],\n",
       "       [51.589912, 71.25009 ],\n",
       "       [54.06504 , 75.194466],\n",
       "       [51.171032, 71.171265],\n",
       "       [51.763123, 71.89986 ],\n",
       "       [52.04449 , 72.00502 ],\n",
       "       [53.010303, 73.60944 ],\n",
       "       [52.708942, 72.729904],\n",
       "       [50.8419  , 70.528786],\n",
       "       [54.791866, 75.82103 ],\n",
       "       [50.49143 , 70.08779 ],\n",
       "       [53.878788, 74.94317 ],\n",
       "       [52.100864, 71.77224 ],\n",
       "       [51.490856, 71.1701  ],\n",
       "       [55.054916, 76.59811 ],\n",
       "       [53.41625 , 74.35363 ],\n",
       "       [51.98486 , 72.127014],\n",
       "       [56.940445, 79.2215  ],\n",
       "       [54.342594, 75.428925],\n",
       "       [51.57061 , 71.87102 ],\n",
       "       [51.942028, 71.719604],\n",
       "       [48.088406, 66.66985 ]], dtype=float32)"
      ]
     },
     "execution_count": 44,
     "metadata": {},
     "output_type": "execute_result"
    }
   ],
   "source": [
    "nonmem"
   ]
  },
  {
   "cell_type": "code",
   "execution_count": 45,
   "metadata": {},
   "outputs": [
    {
     "data": {
      "text/plain": [
       "<matplotlib.legend.Legend at 0x7f14f40bd940>"
      ]
     },
     "execution_count": 45,
     "metadata": {},
     "output_type": "execute_result"
    },
    {
     "data": {
      "image/png": "[encoded data removed]",
      "text/plain": [
       "<Figure size 1920x1440 with 1 Axes>"
      ]
     },
     "metadata": {},
     "output_type": "display_data"
    }
   ],
   "source": [
    "plt.hist(mem[:, 0], bins=15, alpha=0.5, label=\"Members\")\n",
    "plt.hist(nonmem[:, 0], bins=15, alpha=0.5, label=\"Nonmembers\")\n",
    "plt.legend()"
   ]
  },
  {
   "cell_type": "code",
   "execution_count": null,
   "metadata": {},
   "outputs": [],
   "source": []
  }
 ],
 "metadata": {
  "kernelspec": {
   "display_name": "phd9",
   "language": "python",
   "name": "python3"
  },
  "language_info": {
   "codemirror_mode": {
    "name": "ipython",
    "version": 3
   },
   "file_extension": ".py",
   "mimetype": "text/x-python",
   "name": "python",
   "nbconvert_exporter": "python",
   "pygments_lexer": "ipython3",
   "version": "3.9.7"
  },
  "orig_nbformat": 4
 },
 "nbformat": 4,
 "nbformat_minor": 2
}
