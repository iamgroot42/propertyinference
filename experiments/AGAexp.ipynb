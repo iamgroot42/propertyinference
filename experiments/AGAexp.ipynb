{
 "cells": [
  {
   "cell_type": "code",
   "execution_count": 2,
   "metadata": {},
   "outputs": [
    {
     "name": "stderr",
     "output_type": "stream",
     "text": [
      "09/25/2022 00:26:03:WARNING:The OGB package is out of date. Your version is 1.3.3, while the latest version is 1.3.4.\n"
     ]
    }
   ],
   "source": [
    "from simple_parsing import ArgumentParser\n",
    "from pathlib import Path\n",
    "import numpy as np\n",
    "import os\n",
    "from distribution_inference.datasets.utils import get_dataset_wrapper, get_dataset_information\n",
    "from distribution_inference.attacks.utils import get_dfs_for_victim_and_adv, get_train_config_for_adv\n",
    "from distribution_inference.attacks.whitebox.utils import wrap_into_loader, get_attack, get_train_val_from_pool\n",
    "from distribution_inference.config import DatasetConfig, AttackConfig, WhiteBoxAttackConfig, TrainConfig\n",
    "from distribution_inference.utils import flash_utils, warning_string\n",
    "from distribution_inference.logging.core import AttackResult\n",
    "from distribution_inference.attacks.whitebox.affinity.utils import get_seed_data_loader, identify_relevant_points, make_ds_and_loader\n"
   ]
  },
  {
   "cell_type": "code",
   "execution_count": 7,
   "metadata": {},
   "outputs": [],
   "source": [
    "parser = ArgumentParser(add_help=False)\n",
    "parser.add_argument(\n",
    "    \"--load_config\", help=\"Specify config file\",\n",
    "    type=Path, required=True)\n",
    "parser.add_argument(\n",
    "    '--gpu',\n",
    "    default=None, help=\"device number\")\n",
    "parser.add_argument(\n",
    "    \"--ratios\",\n",
    "    nargs='+',\n",
    "    type=float,default = None)\n",
    "parser.add_argument(\n",
    "    \"--trial\",\n",
    "    type=int,\n",
    "    default=None)\n",
    "args = parser.parse_args([\"--load_config\",\"bone_gender_aga.json\"])"
   ]
  },
  {
   "cell_type": "code",
   "execution_count": 8,
   "metadata": {},
   "outputs": [],
   "source": [
    "attack_config: AttackConfig = AttackConfig.load(\n",
    "    args.load_config, drop_extra_fields=False)\n",
    "if args.gpu:\n",
    "    os.environ[\"CUDA_VISIBLE_DEVICES\"] = args.gpu\n",
    "# Extract configuration information from config file\n",
    "wb_attack_config: WhiteBoxAttackConfig = attack_config.white_box\n",
    "train_config: TrainConfig = attack_config.train_config\n",
    "data_config: DatasetConfig = train_config.data_config\n",
    "if train_config.misc_config is not None:\n",
    "    # TODO: Figure out best place to have this logic in the module\n",
    "    if train_config.misc_config.adv_config:\n",
    "        # Scale epsilon by 255 if requested\n",
    "        if train_config.misc_config.adv_config.scale_by_255:\n",
    "            train_config.misc_config.adv_config.epsilon /= 255\n",
    "# Do the same if adv_misc_config is present\n",
    "if attack_config.adv_misc_config is not None:\n",
    "    if attack_config.adv_misc_config.adv_config:\n",
    "        if attack_config.adv_misc_config.adv_config.scale_by_255:\n",
    "            attack_config.adv_misc_config.adv_config.epsilon /= 255\n",
    "\n",
    "# Make sure regression config is not being used here\n",
    "if wb_attack_config.regression_config:\n",
    "    raise ValueError(\n",
    "        \"This script is not designed to be used with regression attacks\")\n"
   ]
  },
  {
   "cell_type": "code",
   "execution_count": 9,
   "metadata": {},
   "outputs": [
    {
     "name": "stdout",
     "output_type": "stream",
     "text": [
      "\u001b[35m==> Arguments:\u001b[0m\n",
      "train_config  : \n",
      "    data_config  : \n",
      "        name  :  boneage\n",
      "        prop  :  gender\n",
      "        value  :  0.5\n",
      "        split  :  adv\n",
      "        drop_senstive_cols  :  False\n",
      "        scale  :  1.0\n",
      "        augment  :  False\n",
      "        classify  :  age\n",
      "        cwise_samples  :  None\n",
      "        squeeze  :  True\n",
      "        processed_variant  :  True\n",
      "        prune  :  0.0\n",
      "    epochs  :  0\n",
      "    learning_rate  :  0.0\n",
      "    batch_size  :  0\n",
      "    misc_config  :  None\n",
      "    lr_scheduler  :  None\n",
      "    verbose  :  False\n",
      "    num_models  :  1\n",
      "    offset  :  0\n",
      "    weight_decay  :  0.0\n",
      "    get_best  :  True\n",
      "    cpu  :  False\n",
      "    expect_extra  :  True\n",
      "    save_every_epoch  :  False\n",
      "    extra_info  :  None\n",
      "    regression  :  False\n",
      "    multi_class  :  False\n",
      "    label_noise  :  0.0\n",
      "    model_arch  :  bonemodel\n",
      "    parallel  :  False\n",
      "values  :  [0.4, 0.6]\n",
      "black_box  :  None\n",
      "white_box  : \n",
      "    attack  :  affinity\n",
      "    epochs  :  300\n",
      "    batch_size  :  500\n",
      "    learning_rate  :  0.0001\n",
      "    weight_decay  :  0.01\n",
      "    train_sample  :  750\n",
      "    val_sample  :  50\n",
      "    save  :  True\n",
      "    load  :  None\n",
      "    regression_config  :  None\n",
      "    eval_every  :  10\n",
      "    binary  :  True\n",
      "    gpu  :  True\n",
      "    shuffle  :  True\n",
      "    multi_class  :  False\n",
      "    custom_layers_fc  :  None\n",
      "    start_n_fc  :  0\n",
      "    first_n_fc  :  None\n",
      "    custom_layers_conv  :  None\n",
      "    start_n_conv  :  0\n",
      "    first_n_conv  :  None\n",
      "    permutation_config  :  None\n",
      "    affinity_config  : \n",
      "        num_final  :  16\n",
      "        only_latent  :  False\n",
      "        random_edge_selection  :  False\n",
      "        frac_retain_pairs  :  0.2\n",
      "        better_retain_pair  :  False\n",
      "        optimal_data_identity  :  False\n",
      "        model_sample_for_optimal_data_identity  :  50\n",
      "        num_samples_use  :  50\n",
      "        layer_agnostic  :  False\n",
      "        inner_dims  :  [1024, 64]\n",
      "        shared_layerwise_params  :  True\n",
      "        sequential_variant  :  False\n",
      "        num_rnn_layers  :  2\n",
      "        layers_to_target_conv  :  None\n",
      "        layers_to_target_fc  :  None\n",
      "        perpoint_based_selection  :  0\n",
      "        flip_selection_logic  :  False\n",
      "    comparison_config  :  None\n",
      "tries  :  3\n",
      "num_victim_models  :  250\n",
      "on_cpu  :  True\n",
      "adv_misc_config  :  None\n",
      "num_total_adv_models  :  1000\n",
      "victim_local_attack  :  False\n",
      "victim_model_arch  :  None\n",
      "adv_model_arch  :  None\n",
      "adv_processed_variant  :  False\n",
      "adv_target_epoch  :  None\n",
      "victim_target_epoch  :  None\n"
     ]
    }
   ],
   "source": [
    "# Print out arguments\n",
    "flash_utils(attack_config)\n",
    "\n",
    "# Get dataset wrapper\n",
    "ds_wrapper_class = get_dataset_wrapper(data_config.name)\n",
    "\n",
    "# Get dataset info object\n",
    "ds_info = get_dataset_information(data_config.name)()\n",
    "\n",
    "# Create new DS object for both and victim\n",
    "data_config_adv_1, data_config_victim_1 = get_dfs_for_victim_and_adv(\n",
    "    data_config)\n",
    "ds_vic_1 = ds_wrapper_class(\n",
    "    data_config_victim_1, skip_data=not attack_config.victim_local_attack,label_noise=train_config.label_noise)\n",
    "if not attack_config.victim_local_attack:\n",
    "    ds_adv_1 = ds_wrapper_class(data_config_adv_1)\n",
    "\n",
    "# Make train config for adversarial models\n",
    "train_config_adv = get_train_config_for_adv(train_config, attack_config)\n"
   ]
  },
  {
   "cell_type": "code",
   "execution_count": 10,
   "metadata": {},
   "outputs": [
    {
     "name": "stdout",
     "output_type": "stream",
     "text": [
      "\u001b[93mAvailable models: 250\u001b[0m\n"
     ]
    },
    {
     "name": "stderr",
     "output_type": "stream",
     "text": [
      "Loading models: 100%|██████████| 250/250 [00:17<00:00, 13.90it/s]\n"
     ]
    }
   ],
   "source": [
    "# Load victim models for first value\n",
    "models_vic_1 = ds_vic_1.get_models(\n",
    "    train_config,\n",
    "    n_models=attack_config.num_victim_models,\n",
    "    on_cpu=attack_config.on_cpu,\n",
    "    shuffle=False,\n",
    "    model_arch=attack_config.victim_model_arch)"
   ]
  },
  {
   "cell_type": "code",
   "execution_count": 11,
   "metadata": {},
   "outputs": [],
   "source": [
    "prop_value = attack_config.values[0]"
   ]
  },
  {
   "cell_type": "code",
   "execution_count": 12,
   "metadata": {},
   "outputs": [
    {
     "name": "stdout",
     "output_type": "stream",
     "text": [
      "\u001b[93mAvailable models: 250\u001b[0m\n"
     ]
    },
    {
     "name": "stderr",
     "output_type": "stream",
     "text": [
      "Loading models: 100%|██████████| 250/250 [00:20<00:00, 12.21it/s]\n"
     ]
    }
   ],
   "source": [
    "data_config_adv_2, data_config_vic_2 = get_dfs_for_victim_and_adv(\n",
    "    data_config, prop_value=prop_value)\n",
    "\n",
    "# Create new DS object for both and victim (for other ratio)\n",
    "ds_vic_2 = ds_wrapper_class(\n",
    "    data_config_vic_2,\n",
    "    skip_data=not attack_config.victim_local_attack,\n",
    "    label_noise=train_config.label_noise)\n",
    "if not attack_config.victim_local_attack:\n",
    "    ds_adv_2 = ds_wrapper_class(data_config_adv_2)\n",
    "\n",
    "# Load victim's model features for other value\n",
    "models_vic_2 = ds_vic_2.get_models(\n",
    "    train_config,\n",
    "    n_models=attack_config.num_victim_models,\n",
    "    on_cpu=attack_config.on_cpu,\n",
    "    shuffle=False,\n",
    "    model_arch=attack_config.victim_model_arch)\n"
   ]
  },
  {
   "cell_type": "code",
   "execution_count": 14,
   "metadata": {},
   "outputs": [
    {
     "name": "stdout",
     "output_type": "stream",
     "text": [
      "\u001b[93mAvailable models: 1000\u001b[0m\n"
     ]
    },
    {
     "name": "stderr",
     "output_type": "stream",
     "text": [
      "Loading models: 100%|██████████| 1000/1000 [01:09<00:00, 14.43it/s]\n"
     ]
    },
    {
     "name": "stdout",
     "output_type": "stream",
     "text": [
      "\u001b[93mAvailable models: 1000\u001b[0m\n"
     ]
    },
    {
     "name": "stderr",
     "output_type": "stream",
     "text": [
      "Loading models: 100%|██████████| 1000/1000 [00:59<00:00, 16.72it/s]\n"
     ]
    }
   ],
   "source": [
    "if not attack_config.victim_local_attack:\n",
    "    test_data = wrap_into_loader(\n",
    "        [models_vic_1, models_vic_2],\n",
    "        batch_size=wb_attack_config.batch_size,\n",
    "        shuffle=False,\n",
    "        wrap_with_loader=False\n",
    "    )\n",
    "\n",
    "# Load adv models for both ratios\n",
    "# Unless victim-only mode\n",
    "if not attack_config.victim_local_attack:\n",
    "    models_adv_1 = ds_adv_1.get_models(\n",
    "        train_config_adv,\n",
    "        n_models=attack_config.num_total_adv_models,\n",
    "        on_cpu=attack_config.on_cpu,\n",
    "        shuffle=False,\n",
    "        model_arch=attack_config.adv_model_arch)\n",
    "\n",
    "    models_adv_2 = ds_adv_2.get_models(\n",
    "        train_config_adv,\n",
    "        n_models=attack_config.num_total_adv_models,\n",
    "        on_cpu=attack_config.on_cpu,\n",
    "        shuffle=False,\n",
    "        model_arch=attack_config.adv_model_arch)"
   ]
  },
  {
   "cell_type": "code",
   "execution_count": null,
   "metadata": {},
   "outputs": [],
   "source": [
    "if attack_config.victim_local_attack:\n",
    "    # Split victim models into train-val\n",
    "    train_data, val_data = get_train_val_from_pool(\n",
    "        [models_vic_1, models_vic_2],\n",
    "        wb_config=wb_attack_config,\n",
    "        wrap_with_loader=False\n",
    "    )\n",
    "    test_data = val_data\n",
    "else:\n",
    "    # Normal train-val split from adv models\n",
    "    train_data, val_data = get_train_val_from_pool(\n",
    "        [models_adv_1, models_adv_2],\n",
    "        wb_config=wb_attack_config,\n",
    "        wrap_with_loader=False\n",
    "    )"
   ]
  },
  {
   "cell_type": "code",
   "execution_count": null,
   "metadata": {},
   "outputs": [],
   "source": [
    "args = parser.parse_args([\"--load_config\",\"bone_gender_aga.json\"])\n",
    "attack_config: AttackConfig = AttackConfig.load(\n",
    "    args.load_config, drop_extra_fields=False)\n",
    "if args.gpu:\n",
    "    os.environ[\"CUDA_VISIBLE_DEVICES\"] = args.gpu\n",
    "# Extract configuration information from config file\n",
    "wb_attack_config: WhiteBoxAttackConfig = attack_config.white_box\n",
    "train_config: TrainConfig = attack_config.train_config\n",
    "data_config: DatasetConfig = train_config.data_config\n",
    "if train_config.misc_config is not None:\n",
    "    # TODO: Figure out best place to have this logic in the module\n",
    "    if train_config.misc_config.adv_config:\n",
    "        # Scale epsilon by 255 if requested\n",
    "        if train_config.misc_config.adv_config.scale_by_255:\n",
    "            train_config.misc_config.adv_config.epsilon /= 255\n",
    "# Do the same if adv_misc_config is present\n",
    "if attack_config.adv_misc_config is not None:\n",
    "    if attack_config.adv_misc_config.adv_config:\n",
    "        if attack_config.adv_misc_config.adv_config.scale_by_255:\n",
    "            attack_config.adv_misc_config.adv_config.epsilon /= 255\n",
    "\n",
    "# Make sure regression config is not being used here\n",
    "if wb_attack_config.regression_config:\n",
    "    raise ValueError(\n",
    "        \"This script is not designed to be used with regression attacks\")\n"
   ]
  }
 ],
 "metadata": {
  "interpreter": {
   "hash": "b4dc72eda38794d3bbff2eefb19702cda488c570447440db9ecdc6399f020f43"
  },
  "kernelspec": {
   "display_name": "Python 3.9.7 ('dp': conda)",
   "language": "python",
   "name": "python3"
  },
  "language_info": {
   "codemirror_mode": {
    "name": "ipython",
    "version": 3
   },
   "file_extension": ".py",
   "mimetype": "text/x-python",
   "name": "python",
   "nbconvert_exporter": "python",
   "pygments_lexer": "ipython3",
   "version": "3.9.7"
  },
  "orig_nbformat": 4
 },
 "nbformat": 4,
 "nbformat_minor": 2
}
